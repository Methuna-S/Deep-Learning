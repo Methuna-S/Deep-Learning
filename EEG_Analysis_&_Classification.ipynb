{
 "cells": [
  {
   "cell_type": "code",
   "execution_count": 1,
   "id": "Db6foPpcrt1B",
   "metadata": {
    "colab": {
     "base_uri": "https://localhost:8080/"
    },
    "id": "Db6foPpcrt1B",
    "outputId": "9bfa6f2e-eda9-40bc-c312-0a002655186f"
   },
   "outputs": [
    {
     "name": "stdout",
     "output_type": "stream",
     "text": [
      "Requirement already satisfied: mne in c:\\users\\methuna\\appdata\\local\\programs\\python\\python311\\lib\\site-packages (1.7.1)\n",
      "Requirement already satisfied: decorator in c:\\users\\methuna\\appdata\\roaming\\python\\python311\\site-packages (from mne) (5.1.1)\n",
      "Requirement already satisfied: jinja2 in c:\\users\\methuna\\appdata\\local\\programs\\python\\python311\\lib\\site-packages (from mne) (3.1.2)\n",
      "Requirement already satisfied: lazy-loader>=0.3 in c:\\users\\methuna\\appdata\\local\\programs\\python\\python311\\lib\\site-packages (from mne) (0.4)\n",
      "Requirement already satisfied: matplotlib>=3.5.0 in c:\\users\\methuna\\appdata\\local\\programs\\python\\python311\\lib\\site-packages (from mne) (3.9.0)\n",
      "Requirement already satisfied: numpy>=1.21.2 in c:\\users\\methuna\\appdata\\local\\programs\\python\\python311\\lib\\site-packages (from mne) (1.25.2)\n",
      "Requirement already satisfied: packaging in c:\\users\\methuna\\appdata\\local\\programs\\python\\python311\\lib\\site-packages (from mne) (23.2)\n",
      "Requirement already satisfied: pooch>=1.5 in c:\\users\\methuna\\appdata\\local\\programs\\python\\python311\\lib\\site-packages (from mne) (1.8.2)\n",
      "Requirement already satisfied: scipy>=1.7.1 in c:\\users\\methuna\\appdata\\local\\programs\\python\\python311\\lib\\site-packages (from mne) (1.14.0)\n",
      "Requirement already satisfied: tqdm in c:\\users\\methuna\\appdata\\local\\programs\\python\\python311\\lib\\site-packages (from mne) (4.66.4)\n",
      "Requirement already satisfied: contourpy>=1.0.1 in c:\\users\\methuna\\appdata\\local\\programs\\python\\python311\\lib\\site-packages (from matplotlib>=3.5.0->mne) (1.2.1)\n",
      "Requirement already satisfied: cycler>=0.10 in c:\\users\\methuna\\appdata\\local\\programs\\python\\python311\\lib\\site-packages (from matplotlib>=3.5.0->mne) (0.12.1)\n",
      "Requirement already satisfied: fonttools>=4.22.0 in c:\\users\\methuna\\appdata\\local\\programs\\python\\python311\\lib\\site-packages (from matplotlib>=3.5.0->mne) (4.53.0)\n",
      "Requirement already satisfied: kiwisolver>=1.3.1 in c:\\users\\methuna\\appdata\\local\\programs\\python\\python311\\lib\\site-packages (from matplotlib>=3.5.0->mne) (1.4.5)\n",
      "Requirement already satisfied: pillow>=8 in c:\\users\\methuna\\appdata\\local\\programs\\python\\python311\\lib\\site-packages (from matplotlib>=3.5.0->mne) (10.0.0)\n",
      "Requirement already satisfied: pyparsing>=2.3.1 in c:\\users\\methuna\\appdata\\local\\programs\\python\\python311\\lib\\site-packages (from matplotlib>=3.5.0->mne) (3.1.2)\n",
      "Requirement already satisfied: python-dateutil>=2.7 in c:\\users\\methuna\\appdata\\roaming\\python\\python311\\site-packages (from matplotlib>=3.5.0->mne) (2.8.2)\n",
      "Requirement already satisfied: platformdirs>=2.5.0 in c:\\users\\methuna\\appdata\\roaming\\python\\python311\\site-packages (from pooch>=1.5->mne) (4.1.0)\n",
      "Requirement already satisfied: requests>=2.19.0 in c:\\users\\methuna\\appdata\\local\\programs\\python\\python311\\lib\\site-packages (from pooch>=1.5->mne) (2.31.0)\n",
      "Requirement already satisfied: MarkupSafe>=2.0 in c:\\users\\methuna\\appdata\\local\\programs\\python\\python311\\lib\\site-packages (from jinja2->mne) (2.1.3)\n",
      "Requirement already satisfied: colorama in c:\\users\\methuna\\appdata\\local\\programs\\python\\python311\\lib\\site-packages (from tqdm->mne) (0.4.6)\n",
      "Requirement already satisfied: six>=1.5 in c:\\users\\methuna\\appdata\\roaming\\python\\python311\\site-packages (from python-dateutil>=2.7->matplotlib>=3.5.0->mne) (1.16.0)\n",
      "Requirement already satisfied: charset-normalizer<4,>=2 in c:\\users\\methuna\\appdata\\local\\programs\\python\\python311\\lib\\site-packages (from requests>=2.19.0->pooch>=1.5->mne) (3.3.2)\n",
      "Requirement already satisfied: idna<4,>=2.5 in c:\\users\\methuna\\appdata\\local\\programs\\python\\python311\\lib\\site-packages (from requests>=2.19.0->pooch>=1.5->mne) (3.6)\n",
      "Requirement already satisfied: urllib3<3,>=1.21.1 in c:\\users\\methuna\\appdata\\local\\programs\\python\\python311\\lib\\site-packages (from requests>=2.19.0->pooch>=1.5->mne) (2.1.0)\n",
      "Requirement already satisfied: certifi>=2017.4.17 in c:\\users\\methuna\\appdata\\local\\programs\\python\\python311\\lib\\site-packages (from requests>=2.19.0->pooch>=1.5->mne) (2023.11.17)\n"
     ]
    }
   ],
   "source": [
    "#Installation of MNE \n",
    "!pip install mne"
   ]
  },
  {
   "cell_type": "code",
   "execution_count": 2,
   "id": "ef953fb0-67b7-4eba-9d09-84aa2968cecd",
   "metadata": {
    "id": "ef953fb0-67b7-4eba-9d09-84aa2968cecd"
   },
   "outputs": [],
   "source": [
    "#Importing all necessary packages\n",
    "import mne\n",
    "import numpy as np\n",
    "import matplotlib.pyplot as plt\n",
    "from sklearn.model_selection import train_test_split\n",
    "from sklearn.metrics import confusion_matrix,accuracy_score, precision_score, recall_score, f1_score\n",
    "import torch\n",
    "import torch.nn as nn\n",
    "import torch.optim as optim\n",
    "from torch.utils.data import DataLoader, TensorDataset\n",
    "import os\n",
    "import glob"
   ]
  },
  {
   "cell_type": "code",
   "execution_count": 3,
   "id": "a8c2df77-b2fc-4216-b17e-9da9b72470a7",
   "metadata": {
    "id": "a8c2df77-b2fc-4216-b17e-9da9b72470a7"
   },
   "outputs": [],
   "source": [
    "# Setting the path of the datasets\n",
    "base_path = r\"C:\\Users\\Methuna\\Downloads\\eeg-during-mental-arithmetic-tasks-1.0.0\\eeg-during-mental-arithmetic-tasks-1.0.0\"\n"
   ]
  },
  {
   "cell_type": "code",
   "execution_count": 4,
   "id": "cad37944-ab54-460c-bb6f-d50b77531a17",
   "metadata": {
    "id": "cad37944-ab54-460c-bb6f-d50b77531a17"
   },
   "outputs": [],
   "source": [
    "# Function to load EEG data from files, extract raw signals and subject IDs\n",
    "def load_eeg_data(file_pattern):\n",
    "    raw_list = [] \n",
    "    subjects = [] \n",
    "    \n",
    "    for file in glob.glob(os.path.join(base_path, file_pattern)):\n",
    "        raw = mne.io.read_raw_edf(file, preload=True)\n",
    "        raw_list.append(raw)\n",
    "        \n",
    "        # Extract subject from the file name\n",
    "        subject = file.split('/')[-1].split('_')[0]  \n",
    "        subjects.append(subject)\n",
    "    return raw_list, subjects"
   ]
  },
  {
   "cell_type": "code",
   "execution_count": 5,
   "id": "48a7a1b9-b0e9-4001-8b89-267cbb2e1cee",
   "metadata": {
    "colab": {
     "base_uri": "https://localhost:8080/"
    },
    "id": "48a7a1b9-b0e9-4001-8b89-267cbb2e1cee",
    "outputId": "771ba049-f5e9-4801-c255-c0314021dd57"
   },
   "outputs": [
    {
     "name": "stdout",
     "output_type": "stream",
     "text": [
      "Extracting EDF parameters from C:\\Users\\Methuna\\Downloads\\eeg-during-mental-arithmetic-tasks-1.0.0\\eeg-during-mental-arithmetic-tasks-1.0.0\\Subject00_1.edf...\n",
      "EDF file detected\n",
      "Setting channel info structure...\n",
      "Creating raw.info structure...\n",
      "Reading 0 ... 90999  =      0.000 ...   181.998 secs...\n",
      "Extracting EDF parameters from C:\\Users\\Methuna\\Downloads\\eeg-during-mental-arithmetic-tasks-1.0.0\\eeg-during-mental-arithmetic-tasks-1.0.0\\Subject01_1.edf...\n",
      "EDF file detected\n",
      "Setting channel info structure...\n",
      "Creating raw.info structure...\n",
      "Reading 0 ... 90999  =      0.000 ...   181.998 secs...\n",
      "Extracting EDF parameters from C:\\Users\\Methuna\\Downloads\\eeg-during-mental-arithmetic-tasks-1.0.0\\eeg-during-mental-arithmetic-tasks-1.0.0\\Subject02_1.edf...\n",
      "EDF file detected\n",
      "Setting channel info structure...\n",
      "Creating raw.info structure...\n",
      "Reading 0 ... 90999  =      0.000 ...   181.998 secs...\n",
      "Extracting EDF parameters from C:\\Users\\Methuna\\Downloads\\eeg-during-mental-arithmetic-tasks-1.0.0\\eeg-during-mental-arithmetic-tasks-1.0.0\\Subject03_1.edf...\n",
      "EDF file detected\n",
      "Setting channel info structure...\n",
      "Creating raw.info structure...\n",
      "Reading 0 ... 90999  =      0.000 ...   181.998 secs...\n",
      "Extracting EDF parameters from C:\\Users\\Methuna\\Downloads\\eeg-during-mental-arithmetic-tasks-1.0.0\\eeg-during-mental-arithmetic-tasks-1.0.0\\Subject04_1.edf...\n",
      "EDF file detected\n",
      "Setting channel info structure...\n",
      "Creating raw.info structure...\n",
      "Reading 0 ... 84999  =      0.000 ...   169.998 secs...\n",
      "Extracting EDF parameters from C:\\Users\\Methuna\\Downloads\\eeg-during-mental-arithmetic-tasks-1.0.0\\eeg-during-mental-arithmetic-tasks-1.0.0\\Subject05_1.edf...\n",
      "EDF file detected\n",
      "Setting channel info structure...\n",
      "Creating raw.info structure...\n",
      "Reading 0 ... 90999  =      0.000 ...   181.998 secs...\n",
      "Extracting EDF parameters from C:\\Users\\Methuna\\Downloads\\eeg-during-mental-arithmetic-tasks-1.0.0\\eeg-during-mental-arithmetic-tasks-1.0.0\\Subject06_1.edf...\n",
      "EDF file detected\n",
      "Setting channel info structure...\n",
      "Creating raw.info structure...\n",
      "Reading 0 ... 90999  =      0.000 ...   181.998 secs...\n",
      "Extracting EDF parameters from C:\\Users\\Methuna\\Downloads\\eeg-during-mental-arithmetic-tasks-1.0.0\\eeg-during-mental-arithmetic-tasks-1.0.0\\Subject07_1.edf...\n",
      "EDF file detected\n",
      "Setting channel info structure...\n",
      "Creating raw.info structure...\n",
      "Reading 0 ... 90999  =      0.000 ...   181.998 secs...\n",
      "Extracting EDF parameters from C:\\Users\\Methuna\\Downloads\\eeg-during-mental-arithmetic-tasks-1.0.0\\eeg-during-mental-arithmetic-tasks-1.0.0\\Subject08_1.edf...\n",
      "EDF file detected\n",
      "Setting channel info structure...\n",
      "Creating raw.info structure...\n",
      "Reading 0 ... 90999  =      0.000 ...   181.998 secs...\n",
      "Extracting EDF parameters from C:\\Users\\Methuna\\Downloads\\eeg-during-mental-arithmetic-tasks-1.0.0\\eeg-during-mental-arithmetic-tasks-1.0.0\\Subject09_1.edf...\n",
      "EDF file detected\n",
      "Setting channel info structure...\n",
      "Creating raw.info structure...\n",
      "Reading 0 ... 90999  =      0.000 ...   181.998 secs...\n",
      "Extracting EDF parameters from C:\\Users\\Methuna\\Downloads\\eeg-during-mental-arithmetic-tasks-1.0.0\\eeg-during-mental-arithmetic-tasks-1.0.0\\Subject10_1.edf...\n",
      "EDF file detected\n",
      "Setting channel info structure...\n",
      "Creating raw.info structure...\n",
      "Reading 0 ... 93999  =      0.000 ...   187.998 secs...\n",
      "Extracting EDF parameters from C:\\Users\\Methuna\\Downloads\\eeg-during-mental-arithmetic-tasks-1.0.0\\eeg-during-mental-arithmetic-tasks-1.0.0\\Subject11_1.edf...\n",
      "EDF file detected\n",
      "Setting channel info structure...\n",
      "Creating raw.info structure...\n",
      "Reading 0 ... 90999  =      0.000 ...   181.998 secs...\n",
      "Extracting EDF parameters from C:\\Users\\Methuna\\Downloads\\eeg-during-mental-arithmetic-tasks-1.0.0\\eeg-during-mental-arithmetic-tasks-1.0.0\\Subject12_1.edf...\n",
      "EDF file detected\n",
      "Setting channel info structure...\n",
      "Creating raw.info structure...\n",
      "Reading 0 ... 90999  =      0.000 ...   181.998 secs...\n",
      "Extracting EDF parameters from C:\\Users\\Methuna\\Downloads\\eeg-during-mental-arithmetic-tasks-1.0.0\\eeg-during-mental-arithmetic-tasks-1.0.0\\Subject13_1.edf...\n",
      "EDF file detected\n",
      "Setting channel info structure...\n",
      "Creating raw.info structure...\n",
      "Reading 0 ... 90999  =      0.000 ...   181.998 secs...\n",
      "Extracting EDF parameters from C:\\Users\\Methuna\\Downloads\\eeg-during-mental-arithmetic-tasks-1.0.0\\eeg-during-mental-arithmetic-tasks-1.0.0\\Subject14_1.edf...\n",
      "EDF file detected\n",
      "Setting channel info structure...\n",
      "Creating raw.info structure...\n",
      "Reading 0 ... 90999  =      0.000 ...   181.998 secs...\n",
      "Extracting EDF parameters from C:\\Users\\Methuna\\Downloads\\eeg-during-mental-arithmetic-tasks-1.0.0\\eeg-during-mental-arithmetic-tasks-1.0.0\\Subject15_1.edf...\n",
      "EDF file detected\n",
      "Setting channel info structure...\n",
      "Creating raw.info structure...\n",
      "Reading 0 ... 90999  =      0.000 ...   181.998 secs...\n",
      "Extracting EDF parameters from C:\\Users\\Methuna\\Downloads\\eeg-during-mental-arithmetic-tasks-1.0.0\\eeg-during-mental-arithmetic-tasks-1.0.0\\Subject16_1.edf...\n",
      "EDF file detected\n",
      "Setting channel info structure...\n",
      "Creating raw.info structure...\n",
      "Reading 0 ... 90999  =      0.000 ...   181.998 secs...\n",
      "Extracting EDF parameters from C:\\Users\\Methuna\\Downloads\\eeg-during-mental-arithmetic-tasks-1.0.0\\eeg-during-mental-arithmetic-tasks-1.0.0\\Subject17_1.edf...\n",
      "EDF file detected\n",
      "Setting channel info structure...\n",
      "Creating raw.info structure...\n",
      "Reading 0 ... 90999  =      0.000 ...   181.998 secs...\n",
      "Extracting EDF parameters from C:\\Users\\Methuna\\Downloads\\eeg-during-mental-arithmetic-tasks-1.0.0\\eeg-during-mental-arithmetic-tasks-1.0.0\\Subject18_1.edf...\n",
      "EDF file detected\n",
      "Setting channel info structure...\n",
      "Creating raw.info structure...\n",
      "Reading 0 ... 90999  =      0.000 ...   181.998 secs...\n",
      "Extracting EDF parameters from C:\\Users\\Methuna\\Downloads\\eeg-during-mental-arithmetic-tasks-1.0.0\\eeg-during-mental-arithmetic-tasks-1.0.0\\Subject19_1.edf...\n",
      "EDF file detected\n",
      "Setting channel info structure...\n",
      "Creating raw.info structure...\n",
      "Reading 0 ... 90999  =      0.000 ...   181.998 secs...\n",
      "Extracting EDF parameters from C:\\Users\\Methuna\\Downloads\\eeg-during-mental-arithmetic-tasks-1.0.0\\eeg-during-mental-arithmetic-tasks-1.0.0\\Subject20_1.edf...\n",
      "EDF file detected\n",
      "Setting channel info structure...\n",
      "Creating raw.info structure...\n",
      "Reading 0 ... 90999  =      0.000 ...   181.998 secs...\n",
      "Extracting EDF parameters from C:\\Users\\Methuna\\Downloads\\eeg-during-mental-arithmetic-tasks-1.0.0\\eeg-during-mental-arithmetic-tasks-1.0.0\\Subject21_1.edf...\n",
      "EDF file detected\n",
      "Setting channel info structure...\n",
      "Creating raw.info structure...\n",
      "Reading 0 ... 90999  =      0.000 ...   181.998 secs...\n",
      "Extracting EDF parameters from C:\\Users\\Methuna\\Downloads\\eeg-during-mental-arithmetic-tasks-1.0.0\\eeg-during-mental-arithmetic-tasks-1.0.0\\Subject22_1.edf...\n",
      "EDF file detected\n",
      "Setting channel info structure...\n",
      "Creating raw.info structure...\n",
      "Reading 0 ... 90999  =      0.000 ...   181.998 secs...\n",
      "Extracting EDF parameters from C:\\Users\\Methuna\\Downloads\\eeg-during-mental-arithmetic-tasks-1.0.0\\eeg-during-mental-arithmetic-tasks-1.0.0\\Subject23_1.edf...\n",
      "EDF file detected\n",
      "Setting channel info structure...\n",
      "Creating raw.info structure...\n",
      "Reading 0 ... 90999  =      0.000 ...   181.998 secs...\n",
      "Extracting EDF parameters from C:\\Users\\Methuna\\Downloads\\eeg-during-mental-arithmetic-tasks-1.0.0\\eeg-during-mental-arithmetic-tasks-1.0.0\\Subject24_1.edf...\n",
      "EDF file detected\n",
      "Setting channel info structure...\n",
      "Creating raw.info structure...\n",
      "Reading 0 ... 90999  =      0.000 ...   181.998 secs...\n",
      "Extracting EDF parameters from C:\\Users\\Methuna\\Downloads\\eeg-during-mental-arithmetic-tasks-1.0.0\\eeg-during-mental-arithmetic-tasks-1.0.0\\Subject25_1.edf...\n",
      "EDF file detected\n",
      "Setting channel info structure...\n",
      "Creating raw.info structure...\n",
      "Reading 0 ... 90999  =      0.000 ...   181.998 secs...\n",
      "Extracting EDF parameters from C:\\Users\\Methuna\\Downloads\\eeg-during-mental-arithmetic-tasks-1.0.0\\eeg-during-mental-arithmetic-tasks-1.0.0\\Subject26_1.edf...\n",
      "EDF file detected\n",
      "Setting channel info structure...\n",
      "Creating raw.info structure...\n",
      "Reading 0 ... 90999  =      0.000 ...   181.998 secs...\n",
      "Extracting EDF parameters from C:\\Users\\Methuna\\Downloads\\eeg-during-mental-arithmetic-tasks-1.0.0\\eeg-during-mental-arithmetic-tasks-1.0.0\\Subject27_1.edf...\n",
      "EDF file detected\n",
      "Setting channel info structure...\n",
      "Creating raw.info structure...\n",
      "Reading 0 ... 90999  =      0.000 ...   181.998 secs...\n",
      "Extracting EDF parameters from C:\\Users\\Methuna\\Downloads\\eeg-during-mental-arithmetic-tasks-1.0.0\\eeg-during-mental-arithmetic-tasks-1.0.0\\Subject28_1.edf...\n",
      "EDF file detected\n",
      "Setting channel info structure...\n",
      "Creating raw.info structure...\n",
      "Reading 0 ... 90999  =      0.000 ...   181.998 secs...\n",
      "Extracting EDF parameters from C:\\Users\\Methuna\\Downloads\\eeg-during-mental-arithmetic-tasks-1.0.0\\eeg-during-mental-arithmetic-tasks-1.0.0\\Subject29_1.edf...\n",
      "EDF file detected\n",
      "Setting channel info structure...\n",
      "Creating raw.info structure...\n",
      "Reading 0 ... 90999  =      0.000 ...   181.998 secs...\n",
      "Extracting EDF parameters from C:\\Users\\Methuna\\Downloads\\eeg-during-mental-arithmetic-tasks-1.0.0\\eeg-during-mental-arithmetic-tasks-1.0.0\\Subject30_1.edf...\n",
      "EDF file detected\n",
      "Setting channel info structure...\n",
      "Creating raw.info structure...\n",
      "Reading 0 ... 90999  =      0.000 ...   181.998 secs...\n",
      "Extracting EDF parameters from C:\\Users\\Methuna\\Downloads\\eeg-during-mental-arithmetic-tasks-1.0.0\\eeg-during-mental-arithmetic-tasks-1.0.0\\Subject31_1.edf...\n",
      "EDF file detected\n",
      "Setting channel info structure...\n",
      "Creating raw.info structure...\n",
      "Reading 0 ... 39999  =      0.000 ...    79.998 secs...\n",
      "Extracting EDF parameters from C:\\Users\\Methuna\\Downloads\\eeg-during-mental-arithmetic-tasks-1.0.0\\eeg-during-mental-arithmetic-tasks-1.0.0\\Subject32_1.edf...\n",
      "EDF file detected\n",
      "Setting channel info structure...\n",
      "Creating raw.info structure...\n",
      "Reading 0 ... 90999  =      0.000 ...   181.998 secs...\n",
      "Extracting EDF parameters from C:\\Users\\Methuna\\Downloads\\eeg-during-mental-arithmetic-tasks-1.0.0\\eeg-during-mental-arithmetic-tasks-1.0.0\\Subject33_1.edf...\n",
      "EDF file detected\n",
      "Setting channel info structure...\n",
      "Creating raw.info structure...\n",
      "Reading 0 ... 90999  =      0.000 ...   181.998 secs...\n",
      "Extracting EDF parameters from C:\\Users\\Methuna\\Downloads\\eeg-during-mental-arithmetic-tasks-1.0.0\\eeg-during-mental-arithmetic-tasks-1.0.0\\Subject34_1.edf...\n",
      "EDF file detected\n",
      "Setting channel info structure...\n",
      "Creating raw.info structure...\n",
      "Reading 0 ... 90999  =      0.000 ...   181.998 secs...\n",
      "Extracting EDF parameters from C:\\Users\\Methuna\\Downloads\\eeg-during-mental-arithmetic-tasks-1.0.0\\eeg-during-mental-arithmetic-tasks-1.0.0\\Subject35_1.edf...\n",
      "EDF file detected\n",
      "Setting channel info structure...\n",
      "Creating raw.info structure...\n",
      "Reading 0 ... 90999  =      0.000 ...   181.998 secs...\n",
      "Extracting EDF parameters from C:\\Users\\Methuna\\Downloads\\eeg-during-mental-arithmetic-tasks-1.0.0\\eeg-during-mental-arithmetic-tasks-1.0.0\\Subject00_2.edf...\n",
      "EDF file detected\n",
      "Setting channel info structure...\n",
      "Creating raw.info structure...\n",
      "Reading 0 ... 30999  =      0.000 ...    61.998 secs...\n",
      "Extracting EDF parameters from C:\\Users\\Methuna\\Downloads\\eeg-during-mental-arithmetic-tasks-1.0.0\\eeg-during-mental-arithmetic-tasks-1.0.0\\Subject01_2.edf...\n",
      "EDF file detected\n",
      "Setting channel info structure...\n",
      "Creating raw.info structure...\n",
      "Reading 0 ... 30999  =      0.000 ...    61.998 secs...\n",
      "Extracting EDF parameters from C:\\Users\\Methuna\\Downloads\\eeg-during-mental-arithmetic-tasks-1.0.0\\eeg-during-mental-arithmetic-tasks-1.0.0\\Subject02_2.edf...\n",
      "EDF file detected\n",
      "Setting channel info structure...\n",
      "Creating raw.info structure...\n",
      "Reading 0 ... 30999  =      0.000 ...    61.998 secs...\n",
      "Extracting EDF parameters from C:\\Users\\Methuna\\Downloads\\eeg-during-mental-arithmetic-tasks-1.0.0\\eeg-during-mental-arithmetic-tasks-1.0.0\\Subject03_2.edf...\n",
      "EDF file detected\n",
      "Setting channel info structure...\n",
      "Creating raw.info structure...\n",
      "Reading 0 ... 30999  =      0.000 ...    61.998 secs...\n",
      "Extracting EDF parameters from C:\\Users\\Methuna\\Downloads\\eeg-during-mental-arithmetic-tasks-1.0.0\\eeg-during-mental-arithmetic-tasks-1.0.0\\Subject04_2.edf...\n",
      "EDF file detected\n",
      "Setting channel info structure...\n",
      "Creating raw.info structure...\n",
      "Reading 0 ... 30999  =      0.000 ...    61.998 secs...\n",
      "Extracting EDF parameters from C:\\Users\\Methuna\\Downloads\\eeg-during-mental-arithmetic-tasks-1.0.0\\eeg-during-mental-arithmetic-tasks-1.0.0\\Subject05_2.edf...\n",
      "EDF file detected\n",
      "Setting channel info structure...\n",
      "Creating raw.info structure...\n",
      "Reading 0 ... 30999  =      0.000 ...    61.998 secs...\n",
      "Extracting EDF parameters from C:\\Users\\Methuna\\Downloads\\eeg-during-mental-arithmetic-tasks-1.0.0\\eeg-during-mental-arithmetic-tasks-1.0.0\\Subject06_2.edf...\n",
      "EDF file detected\n",
      "Setting channel info structure...\n",
      "Creating raw.info structure...\n",
      "Reading 0 ... 30999  =      0.000 ...    61.998 secs...\n",
      "Extracting EDF parameters from C:\\Users\\Methuna\\Downloads\\eeg-during-mental-arithmetic-tasks-1.0.0\\eeg-during-mental-arithmetic-tasks-1.0.0\\Subject07_2.edf...\n",
      "EDF file detected\n",
      "Setting channel info structure...\n",
      "Creating raw.info structure...\n",
      "Reading 0 ... 30999  =      0.000 ...    61.998 secs...\n",
      "Extracting EDF parameters from C:\\Users\\Methuna\\Downloads\\eeg-during-mental-arithmetic-tasks-1.0.0\\eeg-during-mental-arithmetic-tasks-1.0.0\\Subject08_2.edf...\n",
      "EDF file detected\n",
      "Setting channel info structure...\n",
      "Creating raw.info structure...\n",
      "Reading 0 ... 30999  =      0.000 ...    61.998 secs...\n",
      "Extracting EDF parameters from C:\\Users\\Methuna\\Downloads\\eeg-during-mental-arithmetic-tasks-1.0.0\\eeg-during-mental-arithmetic-tasks-1.0.0\\Subject09_2.edf...\n",
      "EDF file detected\n",
      "Setting channel info structure...\n",
      "Creating raw.info structure...\n",
      "Reading 0 ... 30999  =      0.000 ...    61.998 secs...\n",
      "Extracting EDF parameters from C:\\Users\\Methuna\\Downloads\\eeg-during-mental-arithmetic-tasks-1.0.0\\eeg-during-mental-arithmetic-tasks-1.0.0\\Subject10_2.edf...\n",
      "EDF file detected\n",
      "Setting channel info structure...\n",
      "Creating raw.info structure...\n",
      "Reading 0 ... 30999  =      0.000 ...    61.998 secs...\n",
      "Extracting EDF parameters from C:\\Users\\Methuna\\Downloads\\eeg-during-mental-arithmetic-tasks-1.0.0\\eeg-during-mental-arithmetic-tasks-1.0.0\\Subject11_2.edf...\n",
      "EDF file detected\n",
      "Setting channel info structure...\n",
      "Creating raw.info structure...\n",
      "Reading 0 ... 30999  =      0.000 ...    61.998 secs...\n",
      "Extracting EDF parameters from C:\\Users\\Methuna\\Downloads\\eeg-during-mental-arithmetic-tasks-1.0.0\\eeg-during-mental-arithmetic-tasks-1.0.0\\Subject12_2.edf...\n",
      "EDF file detected\n",
      "Setting channel info structure...\n",
      "Creating raw.info structure...\n",
      "Reading 0 ... 30999  =      0.000 ...    61.998 secs...\n",
      "Extracting EDF parameters from C:\\Users\\Methuna\\Downloads\\eeg-during-mental-arithmetic-tasks-1.0.0\\eeg-during-mental-arithmetic-tasks-1.0.0\\Subject13_2.edf...\n",
      "EDF file detected\n",
      "Setting channel info structure...\n",
      "Creating raw.info structure...\n",
      "Reading 0 ... 30999  =      0.000 ...    61.998 secs...\n",
      "Extracting EDF parameters from C:\\Users\\Methuna\\Downloads\\eeg-during-mental-arithmetic-tasks-1.0.0\\eeg-during-mental-arithmetic-tasks-1.0.0\\Subject14_2.edf...\n",
      "EDF file detected\n",
      "Setting channel info structure...\n",
      "Creating raw.info structure...\n",
      "Reading 0 ... 30999  =      0.000 ...    61.998 secs...\n",
      "Extracting EDF parameters from C:\\Users\\Methuna\\Downloads\\eeg-during-mental-arithmetic-tasks-1.0.0\\eeg-during-mental-arithmetic-tasks-1.0.0\\Subject15_2.edf...\n",
      "EDF file detected\n",
      "Setting channel info structure...\n",
      "Creating raw.info structure...\n",
      "Reading 0 ... 30999  =      0.000 ...    61.998 secs...\n",
      "Extracting EDF parameters from C:\\Users\\Methuna\\Downloads\\eeg-during-mental-arithmetic-tasks-1.0.0\\eeg-during-mental-arithmetic-tasks-1.0.0\\Subject16_2.edf...\n",
      "EDF file detected\n",
      "Setting channel info structure...\n",
      "Creating raw.info structure...\n",
      "Reading 0 ... 30999  =      0.000 ...    61.998 secs...\n",
      "Extracting EDF parameters from C:\\Users\\Methuna\\Downloads\\eeg-during-mental-arithmetic-tasks-1.0.0\\eeg-during-mental-arithmetic-tasks-1.0.0\\Subject17_2.edf...\n",
      "EDF file detected\n",
      "Setting channel info structure...\n",
      "Creating raw.info structure...\n",
      "Reading 0 ... 30999  =      0.000 ...    61.998 secs...\n",
      "Extracting EDF parameters from C:\\Users\\Methuna\\Downloads\\eeg-during-mental-arithmetic-tasks-1.0.0\\eeg-during-mental-arithmetic-tasks-1.0.0\\Subject18_2.edf...\n",
      "EDF file detected\n",
      "Setting channel info structure...\n",
      "Creating raw.info structure...\n",
      "Reading 0 ... 30999  =      0.000 ...    61.998 secs...\n",
      "Extracting EDF parameters from C:\\Users\\Methuna\\Downloads\\eeg-during-mental-arithmetic-tasks-1.0.0\\eeg-during-mental-arithmetic-tasks-1.0.0\\Subject19_2.edf...\n",
      "EDF file detected\n",
      "Setting channel info structure...\n",
      "Creating raw.info structure...\n",
      "Reading 0 ... 30999  =      0.000 ...    61.998 secs...\n",
      "Extracting EDF parameters from C:\\Users\\Methuna\\Downloads\\eeg-during-mental-arithmetic-tasks-1.0.0\\eeg-during-mental-arithmetic-tasks-1.0.0\\Subject20_2.edf...\n",
      "EDF file detected\n",
      "Setting channel info structure...\n",
      "Creating raw.info structure...\n",
      "Reading 0 ... 30999  =      0.000 ...    61.998 secs...\n",
      "Extracting EDF parameters from C:\\Users\\Methuna\\Downloads\\eeg-during-mental-arithmetic-tasks-1.0.0\\eeg-during-mental-arithmetic-tasks-1.0.0\\Subject21_2.edf...\n",
      "EDF file detected\n",
      "Setting channel info structure...\n",
      "Creating raw.info structure...\n",
      "Reading 0 ... 30999  =      0.000 ...    61.998 secs...\n",
      "Extracting EDF parameters from C:\\Users\\Methuna\\Downloads\\eeg-during-mental-arithmetic-tasks-1.0.0\\eeg-during-mental-arithmetic-tasks-1.0.0\\Subject22_2.edf...\n",
      "EDF file detected\n",
      "Setting channel info structure...\n",
      "Creating raw.info structure...\n",
      "Reading 0 ... 30999  =      0.000 ...    61.998 secs...\n",
      "Extracting EDF parameters from C:\\Users\\Methuna\\Downloads\\eeg-during-mental-arithmetic-tasks-1.0.0\\eeg-during-mental-arithmetic-tasks-1.0.0\\Subject23_2.edf...\n",
      "EDF file detected\n",
      "Setting channel info structure...\n",
      "Creating raw.info structure...\n",
      "Reading 0 ... 30999  =      0.000 ...    61.998 secs...\n",
      "Extracting EDF parameters from C:\\Users\\Methuna\\Downloads\\eeg-during-mental-arithmetic-tasks-1.0.0\\eeg-during-mental-arithmetic-tasks-1.0.0\\Subject24_2.edf...\n",
      "EDF file detected\n",
      "Setting channel info structure...\n",
      "Creating raw.info structure...\n",
      "Reading 0 ... 30999  =      0.000 ...    61.998 secs...\n",
      "Extracting EDF parameters from C:\\Users\\Methuna\\Downloads\\eeg-during-mental-arithmetic-tasks-1.0.0\\eeg-during-mental-arithmetic-tasks-1.0.0\\Subject25_2.edf...\n",
      "EDF file detected\n",
      "Setting channel info structure...\n",
      "Creating raw.info structure...\n",
      "Reading 0 ... 30999  =      0.000 ...    61.998 secs...\n",
      "Extracting EDF parameters from C:\\Users\\Methuna\\Downloads\\eeg-during-mental-arithmetic-tasks-1.0.0\\eeg-during-mental-arithmetic-tasks-1.0.0\\Subject26_2.edf...\n",
      "EDF file detected\n",
      "Setting channel info structure...\n",
      "Creating raw.info structure...\n",
      "Reading 0 ... 30999  =      0.000 ...    61.998 secs...\n",
      "Extracting EDF parameters from C:\\Users\\Methuna\\Downloads\\eeg-during-mental-arithmetic-tasks-1.0.0\\eeg-during-mental-arithmetic-tasks-1.0.0\\Subject27_2.edf...\n",
      "EDF file detected\n",
      "Setting channel info structure...\n",
      "Creating raw.info structure...\n",
      "Reading 0 ... 30999  =      0.000 ...    61.998 secs...\n",
      "Extracting EDF parameters from C:\\Users\\Methuna\\Downloads\\eeg-during-mental-arithmetic-tasks-1.0.0\\eeg-during-mental-arithmetic-tasks-1.0.0\\Subject28_2.edf...\n",
      "EDF file detected\n",
      "Setting channel info structure...\n",
      "Creating raw.info structure...\n",
      "Reading 0 ... 30999  =      0.000 ...    61.998 secs...\n",
      "Extracting EDF parameters from C:\\Users\\Methuna\\Downloads\\eeg-during-mental-arithmetic-tasks-1.0.0\\eeg-during-mental-arithmetic-tasks-1.0.0\\Subject29_2.edf...\n",
      "EDF file detected\n",
      "Setting channel info structure...\n",
      "Creating raw.info structure...\n",
      "Reading 0 ... 30999  =      0.000 ...    61.998 secs...\n",
      "Extracting EDF parameters from C:\\Users\\Methuna\\Downloads\\eeg-during-mental-arithmetic-tasks-1.0.0\\eeg-during-mental-arithmetic-tasks-1.0.0\\Subject30_2.edf...\n",
      "EDF file detected\n",
      "Setting channel info structure...\n",
      "Creating raw.info structure...\n",
      "Reading 0 ... 30999  =      0.000 ...    61.998 secs...\n",
      "Extracting EDF parameters from C:\\Users\\Methuna\\Downloads\\eeg-during-mental-arithmetic-tasks-1.0.0\\eeg-during-mental-arithmetic-tasks-1.0.0\\Subject31_2.edf...\n",
      "EDF file detected\n",
      "Setting channel info structure...\n",
      "Creating raw.info structure...\n",
      "Reading 0 ... 30999  =      0.000 ...    61.998 secs...\n",
      "Extracting EDF parameters from C:\\Users\\Methuna\\Downloads\\eeg-during-mental-arithmetic-tasks-1.0.0\\eeg-during-mental-arithmetic-tasks-1.0.0\\Subject32_2.edf...\n",
      "EDF file detected\n",
      "Setting channel info structure...\n",
      "Creating raw.info structure...\n",
      "Reading 0 ... 30999  =      0.000 ...    61.998 secs...\n",
      "Extracting EDF parameters from C:\\Users\\Methuna\\Downloads\\eeg-during-mental-arithmetic-tasks-1.0.0\\eeg-during-mental-arithmetic-tasks-1.0.0\\Subject33_2.edf...\n",
      "EDF file detected\n",
      "Setting channel info structure...\n",
      "Creating raw.info structure...\n",
      "Reading 0 ... 30999  =      0.000 ...    61.998 secs...\n",
      "Extracting EDF parameters from C:\\Users\\Methuna\\Downloads\\eeg-during-mental-arithmetic-tasks-1.0.0\\eeg-during-mental-arithmetic-tasks-1.0.0\\Subject34_2.edf...\n",
      "EDF file detected\n",
      "Setting channel info structure...\n",
      "Creating raw.info structure...\n",
      "Reading 0 ... 30999  =      0.000 ...    61.998 secs...\n",
      "Extracting EDF parameters from C:\\Users\\Methuna\\Downloads\\eeg-during-mental-arithmetic-tasks-1.0.0\\eeg-during-mental-arithmetic-tasks-1.0.0\\Subject35_2.edf...\n",
      "EDF file detected\n",
      "Setting channel info structure...\n",
      "Creating raw.info structure...\n",
      "Reading 0 ... 30999  =      0.000 ...    61.998 secs...\n"
     ]
    }
   ],
   "source": [
    "# Loads rest and task data\n",
    "rest_data, rest_subjects = load_eeg_data(\"*_1.edf\")\n",
    "task_data, task_subjects = load_eeg_data(\"*_2.edf\")"
   ]
  },
  {
   "cell_type": "code",
   "execution_count": 6,
   "id": "4ca8414f-bc12-4c03-9d93-c92f55a572af",
   "metadata": {
    "colab": {
     "base_uri": "https://localhost:8080/"
    },
    "id": "4ca8414f-bc12-4c03-9d93-c92f55a572af",
    "outputId": "61217103-b4a4-44ee-c4b3-444e98517fa2"
   },
   "outputs": [
    {
     "name": "stdout",
     "output_type": "stream",
     "text": [
      "Loaded 36 rest state files and 36 task state files.\n"
     ]
    }
   ],
   "source": [
    "#prints number of rest state and task state files\n",
    "print(f\"Loaded {len(rest_data)} rest state files and {len(task_data)} task state files.\")\n"
   ]
  },
  {
   "cell_type": "code",
   "execution_count": 7,
   "id": "5f13c813-a42a-411d-a67d-e8b15d6ffa48",
   "metadata": {
    "id": "5f13c813-a42a-411d-a67d-e8b15d6ffa48"
   },
   "outputs": [],
   "source": [
    "from scipy import signal\n",
    "\n",
    "# Function to calculate PSD for a list of EEG recordings\n",
    "def calculate_psd(raw_list, fmin, fmax):\n",
    "    psd_list = []\n",
    "    for raw in raw_list:\n",
    "        data = raw.get_data()\n",
    "        sfreq = raw.info['sfreq']\n",
    "\n",
    "        # Calculating PSD using Welch's method\n",
    "        freqs, psd = signal.welch(data, fs=sfreq, nperseg=2048)\n",
    "\n",
    "        idx = np.logical_and(freqs >= fmin, freqs <= fmax)\n",
    "\n",
    "        psd_list.append(psd[:, idx])\n",
    "\n",
    "    return np.mean(psd_list, axis=0), freqs[idx]\n",
    "\n",
    "# Calculating PSD for rest states and task states \n",
    "psd_rest, freqs_rest = calculate_psd(rest_data, 1, 100)\n",
    "psd_task, freqs_task = calculate_psd(task_data, 1, 100)"
   ]
  },
  {
   "cell_type": "code",
   "execution_count": 8,
   "id": "fc62d890-d4ae-402d-8922-c470ea3e6a59",
   "metadata": {
    "colab": {
     "base_uri": "https://localhost:8080/",
     "height": 564
    },
    "id": "fc62d890-d4ae-402d-8922-c470ea3e6a59",
    "outputId": "b8243e48-4d05-4a20-9d05-bba5fac86d6a"
   },
   "outputs": [
    {
     "data": {
      "image/png": "[encoded data removed]",
      "text/plain": [
       "<Figure size 1200x600 with 1 Axes>"
      ]
     },
     "metadata": {},
     "output_type": "display_data"
    }
   ],
   "source": [
    "# Plotting PSD for rest and task states\n",
    "plt.figure(figsize=(12, 6))\n",
    "plt.semilogy(freqs_rest, psd_rest.mean(axis=0), label='Rest')\n",
    "plt.semilogy(freqs_task, psd_task.mean(axis=0), label='Task')\n",
    "plt.xlabel('Frequency (Hz)')\n",
    "plt.ylabel('Power Spectral Density (µV^2/Hz)')\n",
    "plt.legend()\n",
    "plt.title('PSD Comparison: Rest vs Task')\n",
    "plt.show()"
   ]
  },
  {
   "cell_type": "code",
   "execution_count": 9,
   "id": "6cdf6bf0-7f68-4c2e-9d5f-38cb67a18874",
   "metadata": {
    "id": "6cdf6bf0-7f68-4c2e-9d5f-38cb67a18874"
   },
   "outputs": [],
   "source": [
    "# Defining frequency bands\n",
    "bands = {\n",
    "    'Delta': (1, 4),\n",
    "    'Theta': (4, 8),\n",
    "    'Alpha': (8, 12),\n",
    "    'Beta': (12, 30),\n",
    "    'Gamma': (30, 100)\n",
    "}"
   ]
  },
  {
   "cell_type": "code",
   "execution_count": 10,
   "id": "d6a4b877-1971-4c66-9d35-51fe8ba6aad1",
   "metadata": {
    "id": "d6a4b877-1971-4c66-9d35-51fe8ba6aad1"
   },
   "outputs": [],
   "source": [
    "# Calculation of band power\n",
    "def calculate_band_power(psd, freqs, fmin, fmax):\n",
    "    freq_res = freqs[1] - freqs[0]\n",
    "    idx = np.logical_and(freqs >= fmin, freqs <= fmax)\n",
    "    return np.sum(psd[:, idx], axis=1) * freq_res"
   ]
  },
  {
   "cell_type": "code",
   "execution_count": 11,
   "id": "20200163-05af-4499-97fc-098eb256a844",
   "metadata": {
    "id": "20200163-05af-4499-97fc-098eb256a844"
   },
   "outputs": [],
   "source": [
    "# Calculation of band power for rest and task\n",
    "rest_powers = {band: calculate_band_power(psd_rest, freqs_rest, fmin, fmax) for band, (fmin, fmax) in bands.items()}\n",
    "task_powers = {band: calculate_band_power(psd_task, freqs_task, fmin, fmax) for band, (fmin, fmax) in bands.items()}"
   ]
  },
  {
   "cell_type": "code",
   "execution_count": 12,
   "id": "a9bd989a-8981-4f5d-afa5-252e1744c469",
   "metadata": {
    "colab": {
     "base_uri": "https://localhost:8080/",
     "height": 607
    },
    "id": "a9bd989a-8981-4f5d-afa5-252e1744c469",
    "outputId": "2e4065ec-1f08-4ff9-f17f-0e1f9006007a"
   },
   "outputs": [
    {
     "data": {
      "image/png": "[encoded data removed]",
      "text/plain": [
       "<Figure size 1200x600 with 1 Axes>"
      ]
     },
     "metadata": {},
     "output_type": "display_data"
    }
   ],
   "source": [
    "# Plotting band-wise power comparison\n",
    "fig, ax = plt.subplots(figsize=(12, 6))\n",
    "\n",
    "x = np.arange(len(bands))\n",
    "width = 0.35\n",
    "\n",
    "ax.bar(x - width/2, [rest_powers[band].mean() for band in bands], width, label='Rest', alpha=0.7)\n",
    "ax.bar(x + width/2, [task_powers[band].mean() for band in bands], width, label='Task', alpha=0.7)\n",
    "\n",
    "ax.set_ylabel('Power (µV^2)')\n",
    "ax.set_title('Band-wise Power Comparison: Rest vs Task')\n",
    "ax.set_xticks(x)\n",
    "ax.set_xticklabels(bands.keys())\n",
    "ax.legend()\n",
    "\n",
    "plt.tight_layout()\n",
    "plt.show()"
   ]
  },
  {
   "cell_type": "code",
   "execution_count": 13,
   "id": "dc20cb2d-e382-4293-be3f-2dc3fdf2b4cc",
   "metadata": {
    "colab": {
     "base_uri": "https://localhost:8080/"
    },
    "id": "dc20cb2d-e382-4293-be3f-2dc3fdf2b4cc",
    "outputId": "ef0d8b34-b278-4a4e-f35c-778c2ecbd24a"
   },
   "outputs": [
    {
     "name": "stdout",
     "output_type": "stream",
     "text": [
      "Relative changes in band power (Task vs Rest):\n",
      "Delta: -24.36%\n",
      "Theta: -2.90%\n",
      "Alpha: -5.82%\n",
      "Beta: 6.68%\n",
      "Gamma: 17.87%\n"
     ]
    }
   ],
   "source": [
    "# Calculating and printing relative changes\n",
    "print(\"Relative changes in band power (Task vs Rest):\")\n",
    "for band in bands:\n",
    "    rel_change = (task_powers[band].mean() - rest_powers[band].mean()) / rest_powers[band].mean() * 100\n",
    "    print(f\"{band}: {rel_change:.2f}%\")"
   ]
  },
  {
   "cell_type": "code",
   "execution_count": 14,
   "id": "10f989b4-499f-4c1c-8e02-2899c650d409",
   "metadata": {
    "id": "10f989b4-499f-4c1c-8e02-2899c650d409"
   },
   "outputs": [],
   "source": [
    "# Combining rest and task data\n",
    "X = np.vstack([\n",
    "    np.array([rest_powers[band] for band in bands]).T,\n",
    "    np.array([task_powers[band] for band in bands]).T\n",
    "])\n",
    "y = np.concatenate([np.zeros(len(rest_powers['Delta'])), np.ones(len(task_powers['Delta']))])\n"
   ]
  },
  {
   "cell_type": "code",
   "execution_count": 15,
   "id": "501eecfc-62ec-4388-b261-cee400366196",
   "metadata": {
    "id": "501eecfc-62ec-4388-b261-cee400366196"
   },
   "outputs": [],
   "source": [
    "# Normalizing the features\n",
    "X = (X - X.mean(axis=0)) / X.std(axis=0)"
   ]
  },
  {
   "cell_type": "code",
   "execution_count": 16,
   "id": "3dd90e28-5e06-43d9-a6d9-dd5053ceb161",
   "metadata": {
    "id": "3dd90e28-5e06-43d9-a6d9-dd5053ceb161"
   },
   "outputs": [],
   "source": [
    "# Splitting the data\n",
    "X_train, X_test, y_train, y_test = train_test_split(X, y, test_size=0.2, random_state=42)"
   ]
  },
  {
   "cell_type": "code",
   "execution_count": 17,
   "id": "5f173037-f76c-40e9-b620-dc667776d114",
   "metadata": {
    "id": "5f173037-f76c-40e9-b620-dc667776d114"
   },
   "outputs": [],
   "source": [
    "# Data preparation\n",
    "X_train_tensor = torch.FloatTensor(X_train).unsqueeze(1)  # Adding channel dimension\n",
    "y_train_tensor = torch.LongTensor(y_train)\n",
    "X_test_tensor = torch.FloatTensor(X_test).unsqueeze(1)  # Adding channel dimension\n",
    "y_test_tensor = torch.LongTensor(y_test)"
   ]
  },
  {
   "cell_type": "code",
   "execution_count": 18,
   "id": "b87718d7-2b65-4119-8220-496666df6d50",
   "metadata": {
    "id": "b87718d7-2b65-4119-8220-496666df6d50"
   },
   "outputs": [],
   "source": [
    "# Creating DataLoader\n",
    "train_dataset = TensorDataset(X_train_tensor, y_train_tensor)\n",
    "train_loader = DataLoader(train_dataset, batch_size=32, shuffle=True)\n"
   ]
  },
  {
   "cell_type": "code",
   "execution_count": 19,
   "id": "8189f7dd-601a-4f2e-b915-4ca35cffe562",
   "metadata": {
    "colab": {
     "base_uri": "https://localhost:8080/"
    },
    "id": "8189f7dd-601a-4f2e-b915-4ca35cffe562",
    "outputId": "3ba6f1d9-566e-4fd1-d71d-b6c068204624"
   },
   "outputs": [
    {
     "name": "stdout",
     "output_type": "stream",
     "text": [
      "X_train shape: (33, 5)\n",
      "Sample input shape: torch.Size([32, 1, 5])\n"
     ]
    }
   ],
   "source": [
    "print(\"X_train shape:\", X_train.shape)\n",
    "print(\"Sample input shape:\", next(iter(train_loader))[0].shape)"
   ]
  },
  {
   "cell_type": "code",
   "execution_count": 20,
   "id": "e7213786-2713-402c-9ab8-0a2227625e3b",
   "metadata": {
    "id": "e7213786-2713-402c-9ab8-0a2227625e3b"
   },
   "outputs": [],
   "source": [
    "# EEGNet classification\n",
    "class EEGNet(nn.Module):\n",
    "    def __init__(self, input_size, num_classes=2):\n",
    "        super(EEGNet, self).__init__()\n",
    "        self.conv1 = nn.Conv1d(1, 16, kernel_size=3, padding=1)\n",
    "        self.bn1 = nn.BatchNorm1d(16)\n",
    "        self.conv2 = nn.Conv1d(16, 32, kernel_size=3, padding=1)\n",
    "        self.bn2 = nn.BatchNorm1d(32)\n",
    "        self.fc = nn.Linear(32 * input_size, num_classes)\n",
    "\n",
    "    def forward(self, x):\n",
    "        x = torch.relu(self.bn1(self.conv1(x)))\n",
    "        x = torch.relu(self.bn2(self.conv2(x)))\n",
    "        x = x.view(x.size(0), -1)\n",
    "        x = self.fc(x)\n",
    "        return x\n"
   ]
  },
  {
   "cell_type": "code",
   "execution_count": 21,
   "id": "02c2a3a7-4124-49ec-967c-d667a6e67946",
   "metadata": {
    "id": "02c2a3a7-4124-49ec-967c-d667a6e67946"
   },
   "outputs": [],
   "source": [
    "# TSCeption classification\n",
    "class TSCeption(nn.Module):\n",
    "    def __init__(self, input_size, num_classes=2):\n",
    "        super(TSCeption, self).__init__()\n",
    "        self.conv1 = nn.Conv1d(1, 32, kernel_size=3, padding=1)\n",
    "        self.conv2 = nn.Conv1d(1, 32, kernel_size=5, padding=2)\n",
    "        self.conv3 = nn.Conv1d(1, 32, kernel_size=7, padding=3)\n",
    "        self.bn = nn.BatchNorm1d(96)\n",
    "        self.fc = nn.Linear(96 * input_size, num_classes)\n",
    "\n",
    "    def forward(self, x):\n",
    "        x1 = torch.relu(self.conv1(x))\n",
    "        x2 = torch.relu(self.conv2(x))\n",
    "        x3 = torch.relu(self.conv3(x))\n",
    "        x = torch.cat([x1, x2, x3], dim=1)\n",
    "        x = self.bn(x)\n",
    "        x = x.view(x.size(0), -1)\n",
    "        x = self.fc(x)\n",
    "        return x"
   ]
  },
  {
   "cell_type": "code",
   "execution_count": 22,
   "id": "5b661ae4-a2ec-46df-bd40-c1f70a152d69",
   "metadata": {
    "id": "5b661ae4-a2ec-46df-bd40-c1f70a152d69"
   },
   "outputs": [],
   "source": [
    "# Initializing models\n",
    "input_size = X_train.shape[1]\n",
    "eegnet = EEGNet(input_size)\n",
    "tsception = TSCeption(input_size)"
   ]
  },
  {
   "cell_type": "code",
   "execution_count": 23,
   "id": "411c682a-6a58-4d2f-937e-83ea24dbae2b",
   "metadata": {
    "id": "411c682a-6a58-4d2f-937e-83ea24dbae2b"
   },
   "outputs": [],
   "source": [
    "# Function to train classification model using Adam optimizer and cross-entropy loss\n",
    "def train_model(model, train_loader, num_epochs=100):\n",
    "    criterion = nn.CrossEntropyLoss()\n",
    "    optimizer = optim.Adam(model.parameters())\n",
    "\n",
    "    for epoch in range(num_epochs):\n",
    "        model.train()\n",
    "        for inputs, labels in train_loader:\n",
    "            optimizer.zero_grad()\n",
    "            outputs = model(inputs)\n",
    "            loss = criterion(outputs, labels)\n",
    "            loss.backward()\n",
    "            optimizer.step()\n",
    "\n",
    "        if (epoch + 1) % 10 == 0:\n",
    "            print(f'Epoch [{epoch+1}/{num_epochs}], Loss: {loss.item():.4f}')"
   ]
  },
  {
   "cell_type": "code",
   "execution_count": 24,
   "id": "a314606d-1256-4cf3-a94b-35a6fb148e6b",
   "metadata": {
    "colab": {
     "base_uri": "https://localhost:8080/"
    },
    "id": "a314606d-1256-4cf3-a94b-35a6fb148e6b",
    "outputId": "4b21cba8-60cb-409b-8541-e227b2e2a567"
   },
   "outputs": [
    {
     "name": "stdout",
     "output_type": "stream",
     "text": [
      "Training EEGNet:\n",
      "Epoch [10/100], Loss: 0.5698\n",
      "Epoch [20/100], Loss: 0.6544\n",
      "Epoch [30/100], Loss: 0.8892\n",
      "Epoch [40/100], Loss: 0.1617\n",
      "Epoch [50/100], Loss: 0.4764\n",
      "Epoch [60/100], Loss: 0.0541\n",
      "Epoch [70/100], Loss: 0.8168\n",
      "Epoch [80/100], Loss: 0.3640\n",
      "Epoch [90/100], Loss: 0.1488\n",
      "Epoch [100/100], Loss: 0.4885\n",
      "\n",
      "Training TSCeption:\n",
      "Epoch [10/100], Loss: 0.0272\n",
      "Epoch [20/100], Loss: 0.4400\n",
      "Epoch [30/100], Loss: 0.2360\n",
      "Epoch [40/100], Loss: 0.3720\n",
      "Epoch [50/100], Loss: 0.0365\n",
      "Epoch [60/100], Loss: 0.3963\n",
      "Epoch [70/100], Loss: 1.6225\n",
      "Epoch [80/100], Loss: 0.3504\n",
      "Epoch [90/100], Loss: 0.5651\n",
      "Epoch [100/100], Loss: 0.9383\n"
     ]
    }
   ],
   "source": [
    "# Train models\n",
    "print(\"Training EEGNet:\")\n",
    "train_model(eegnet, train_loader)\n",
    "print(\"\\nTraining TSCeption:\")\n",
    "train_model(tsception, train_loader)"
   ]
  },
  {
   "cell_type": "code",
   "execution_count": 25,
   "id": "258bb427-4232-4d39-8751-953053fb6296",
   "metadata": {
    "colab": {
     "base_uri": "https://localhost:8080/"
    },
    "id": "258bb427-4232-4d39-8751-953053fb6296",
    "outputId": "c4c39dbb-49c1-41fe-91c8-6b6f2cf3d559"
   },
   "outputs": [
    {
     "name": "stdout",
     "output_type": "stream",
     "text": [
      "EEGNet Predictions:\n",
      "Prediction distribution: {0: 2, 1: 7}\n",
      "\n",
      "TSCeption Predictions:\n",
      "Prediction distribution: {0: 3, 1: 6}\n"
     ]
    }
   ],
   "source": [
    "# Prediction of EEGNet Model and TSCeption Model\n",
    "def check_predictions(model, X_test):\n",
    "    model.eval()\n",
    "    with torch.no_grad():\n",
    "        outputs = model(X_test)\n",
    "        _, predicted = torch.max(outputs.data, 1)\n",
    "\n",
    "    unique, counts = np.unique(predicted.numpy(), return_counts=True)\n",
    "    print(\"Prediction distribution:\", dict(zip(unique, counts)))\n",
    "\n",
    "print(\"EEGNet Predictions:\")\n",
    "check_predictions(eegnet, X_test_tensor)\n",
    "\n",
    "print(\"\\nTSCeption Predictions:\")\n",
    "check_predictions(tsception, X_test_tensor)"
   ]
  },
  {
   "cell_type": "code",
   "execution_count": 26,
   "id": "5f7bf426-dffc-4215-be44-baf9ec0be67d",
   "metadata": {
    "id": "5f7bf426-dffc-4215-be44-baf9ec0be67d"
   },
   "outputs": [],
   "source": [
    "# Evaluating Model Performance\n",
    "def evaluate_model(model, X_test, y_test, subjects, class_labels=[\"rest\", \"task\"]):\n",
    "    model.eval()\n",
    "    with torch.no_grad():\n",
    "        outputs = model(X_test)\n",
    "        _, predicted = torch.max(outputs.data, 1)\n",
    "\n",
    "    y_true = y_test.numpy()\n",
    "    y_pred = predicted.numpy()\n",
    "\n",
    "    # Printing predicted labels with subject information\n",
    "    print(\"Predicted Labels:\")\n",
    "    for i, pred in enumerate(y_pred):\n",
    "        print(f\"Subject: {subjects[i]}, Predicted State: {class_labels[pred]}\")\n",
    "\n",
    "    cm = confusion_matrix(y_true, y_pred)\n",
    "    print(\"\\nConfusion Matrix:\")\n",
    "    print(cm)\n",
    "\n",
    "    accuracy = accuracy_score(y_true, y_pred)\n",
    "\n",
    "\n",
    "\n",
    "    # Handling the case where precision, recall, and f1 are undefined\n",
    "    if len(np.unique(y_pred)) == 1:\n",
    "        if np.unique(y_pred)[0] == 0:\n",
    "            precision = 0\n",
    "            recall = 0\n",
    "        else:\n",
    "            precision = 1\n",
    "            recall = cm[1,1] / (cm[1,0] + cm[1,1])\n",
    "        f1 = 0 if precision + recall == 0 else 2 * (precision * recall) / (precision + recall)\n",
    "    else:\n",
    "        precision = precision_score(y_true, y_pred)\n",
    "        recall = recall_score(y_true, y_pred)\n",
    "        f1 = f1_score(y_true, y_pred)\n",
    "\n",
    "    print(f\"\\nAccuracy: {accuracy:.4f}\")\n",
    "    print(f\"Precision: {precision:.4f}\")\n",
    "    print(f\"Recall: {recall:.4f}\")\n",
    "    print(f\"F1-score: {f1:.4f}\")"
   ]
  },
  {
   "cell_type": "code",
   "execution_count": 27,
   "id": "eb3c9d7d-1368-44b2-b6ea-a039e987339e",
   "metadata": {},
   "outputs": [
    {
     "name": "stdout",
     "output_type": "stream",
     "text": [
      "EEGNet Results:\n",
      "Predicted Labels:\n",
      "Subject: C:\\Users\\Methuna\\Downloads\\eeg-during-mental-arithmetic-tasks-1.0.0\\eeg-during-mental-arithmetic-tasks-1.0.0\\Subject00, Predicted State: task\n",
      "Subject: C:\\Users\\Methuna\\Downloads\\eeg-during-mental-arithmetic-tasks-1.0.0\\eeg-during-mental-arithmetic-tasks-1.0.0\\Subject01, Predicted State: rest\n",
      "Subject: C:\\Users\\Methuna\\Downloads\\eeg-during-mental-arithmetic-tasks-1.0.0\\eeg-during-mental-arithmetic-tasks-1.0.0\\Subject02, Predicted State: task\n",
      "Subject: C:\\Users\\Methuna\\Downloads\\eeg-during-mental-arithmetic-tasks-1.0.0\\eeg-during-mental-arithmetic-tasks-1.0.0\\Subject03, Predicted State: task\n",
      "Subject: C:\\Users\\Methuna\\Downloads\\eeg-during-mental-arithmetic-tasks-1.0.0\\eeg-during-mental-arithmetic-tasks-1.0.0\\Subject04, Predicted State: task\n",
      "Subject: C:\\Users\\Methuna\\Downloads\\eeg-during-mental-arithmetic-tasks-1.0.0\\eeg-during-mental-arithmetic-tasks-1.0.0\\Subject05, Predicted State: rest\n",
      "Subject: C:\\Users\\Methuna\\Downloads\\eeg-during-mental-arithmetic-tasks-1.0.0\\eeg-during-mental-arithmetic-tasks-1.0.0\\Subject06, Predicted State: task\n",
      "Subject: C:\\Users\\Methuna\\Downloads\\eeg-during-mental-arithmetic-tasks-1.0.0\\eeg-during-mental-arithmetic-tasks-1.0.0\\Subject07, Predicted State: task\n",
      "Subject: C:\\Users\\Methuna\\Downloads\\eeg-during-mental-arithmetic-tasks-1.0.0\\eeg-during-mental-arithmetic-tasks-1.0.0\\Subject08, Predicted State: task\n",
      "\n",
      "Confusion Matrix:\n",
      "[[1 3]\n",
      " [1 4]]\n",
      "\n",
      "Accuracy: 0.5556\n",
      "Precision: 0.5714\n",
      "Recall: 0.8000\n",
      "F1-score: 0.6667\n",
      "\n",
      "TSCeption Results:\n",
      "Predicted Labels:\n",
      "Subject: C:\\Users\\Methuna\\Downloads\\eeg-during-mental-arithmetic-tasks-1.0.0\\eeg-during-mental-arithmetic-tasks-1.0.0\\Subject00, Predicted State: task\n",
      "Subject: C:\\Users\\Methuna\\Downloads\\eeg-during-mental-arithmetic-tasks-1.0.0\\eeg-during-mental-arithmetic-tasks-1.0.0\\Subject01, Predicted State: rest\n",
      "Subject: C:\\Users\\Methuna\\Downloads\\eeg-during-mental-arithmetic-tasks-1.0.0\\eeg-during-mental-arithmetic-tasks-1.0.0\\Subject02, Predicted State: rest\n",
      "Subject: C:\\Users\\Methuna\\Downloads\\eeg-during-mental-arithmetic-tasks-1.0.0\\eeg-during-mental-arithmetic-tasks-1.0.0\\Subject03, Predicted State: task\n",
      "Subject: C:\\Users\\Methuna\\Downloads\\eeg-during-mental-arithmetic-tasks-1.0.0\\eeg-during-mental-arithmetic-tasks-1.0.0\\Subject04, Predicted State: task\n",
      "Subject: C:\\Users\\Methuna\\Downloads\\eeg-during-mental-arithmetic-tasks-1.0.0\\eeg-during-mental-arithmetic-tasks-1.0.0\\Subject05, Predicted State: rest\n",
      "Subject: C:\\Users\\Methuna\\Downloads\\eeg-during-mental-arithmetic-tasks-1.0.0\\eeg-during-mental-arithmetic-tasks-1.0.0\\Subject06, Predicted State: task\n",
      "Subject: C:\\Users\\Methuna\\Downloads\\eeg-during-mental-arithmetic-tasks-1.0.0\\eeg-during-mental-arithmetic-tasks-1.0.0\\Subject07, Predicted State: task\n",
      "Subject: C:\\Users\\Methuna\\Downloads\\eeg-during-mental-arithmetic-tasks-1.0.0\\eeg-during-mental-arithmetic-tasks-1.0.0\\Subject08, Predicted State: task\n",
      "\n",
      "Confusion Matrix:\n",
      "[[2 2]\n",
      " [1 4]]\n",
      "\n",
      "Accuracy: 0.6667\n",
      "Precision: 0.6667\n",
      "Recall: 0.8000\n",
      "F1-score: 0.7273\n"
     ]
    }
   ],
   "source": [
    "print(\"EEGNet Results:\")\n",
    "test_indices = range(len(X_test))  # Assuming the test data is in the same order as the loaded data\n",
    "test_subjects = rest_subjects[:len(X_test)] + task_subjects[:len(X_test)]  # Combine rest and task subjects\n",
    "evaluate_model(eegnet, X_test_tensor, y_test_tensor, [test_subjects[i] for i in test_indices], class_labels=[\"rest\", \"task\"])\n",
    "\n",
    "print(\"\\nTSCeption Results:\")\n",
    "evaluate_model(tsception, X_test_tensor, y_test_tensor, [test_subjects[i] for i in test_indices], class_labels=[\"rest\", \"task\"])"
   ]
  }
 ],
 "metadata": {
  "colab": {
   "provenance": []
  },
  "kernelspec": {
   "display_name": "Python 3 (ipykernel)",
   "language": "python",
   "name": "python3"
  },
  "language_info": {
   "codemirror_mode": {
    "name": "ipython",
    "version": 3
   },
   "file_extension": ".py",
   "mimetype": "text/x-python",
   "name": "python",
   "nbconvert_exporter": "python",
   "pygments_lexer": "ipython3",
   "version": "3.11.4"
  }
 },
 "nbformat": 4,
 "nbformat_minor": 5
}
